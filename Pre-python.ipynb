{
 "cells": [
  {
   "cell_type": "markdown",
   "metadata": {
    "colab_type": "text",
    "id": "rbtRfjoizPYk"
   },
   "source": [
    "# Basic Colab"
   ]
  },
  {
   "cell_type": "code",
   "execution_count": null,
   "metadata": {
    "colab": {},
    "colab_type": "code",
    "id": "lQT9aYkh7cRX"
   },
   "outputs": [],
   "source": [
    "!python2 --version\n",
    "!python3 --version"
   ]
  },
  {
   "cell_type": "code",
   "execution_count": null,
   "metadata": {
    "colab": {},
    "colab_type": "code",
    "id": "MiKlogqB9HlO"
   },
   "outputs": [],
   "source": [
    "# Mount Drive\n",
    "from google.colab import drive\n",
    "drive.mount('/content/drive')"
   ]
  },
  {
   "cell_type": "code",
   "execution_count": 14,
   "metadata": {
    "colab": {},
    "colab_type": "code",
    "id": "KpU8cylCNWC6"
   },
   "outputs": [],
   "source": [
    "# Help\n",
    "?print"
   ]
  },
  {
   "cell_type": "code",
   "execution_count": 15,
   "metadata": {
    "colab": {},
    "colab_type": "code",
    "id": "GluP3Mj2w7US"
   },
   "outputs": [
    {
     "name": "stdout",
     "output_type": "stream",
     "text": [
      "hello world\n"
     ]
    }
   ],
   "source": [
    "print(\"hello world\")"
   ]
  },
  {
   "cell_type": "markdown",
   "metadata": {
    "colab_type": "text",
    "id": "k8dnSvbvIb_y"
   },
   "source": [
    "# Hello World!"
   ]
  },
  {
   "cell_type": "code",
   "execution_count": null,
   "metadata": {
    "colab": {},
    "colab_type": "code",
    "id": "RSBmkHaK_Ttq"
   },
   "outputs": [],
   "source": [
    "print(\"hello\"+\"world\")\n",
    "print(\"hello\" + \" \" + \"world\")\n",
    "print(\"hello\", \"world\")\n",
    "\"Colab is easy\""
   ]
  },
  {
   "cell_type": "markdown",
   "metadata": {
    "colab_type": "text",
    "id": "GFXXoNlpz16a"
   },
   "source": [
    "# Python Variables\n"
   ]
  },
  {
   "cell_type": "code",
   "execution_count": null,
   "metadata": {
    "colab": {},
    "colab_type": "code",
    "id": "tMD8rjsHWON5"
   },
   "outputs": [],
   "source": [
    "# Int\n",
    "a = 1\n",
    "a"
   ]
  },
  {
   "cell_type": "code",
   "execution_count": null,
   "metadata": {
    "colab": {},
    "colab_type": "code",
    "id": "4bovsaOLw5Gr"
   },
   "outputs": [],
   "source": [
    "# This is comment\n",
    "a = 1\n",
    "(float(a) - 1)*99"
   ]
  },
  {
   "cell_type": "code",
   "execution_count": null,
   "metadata": {
    "colab": {},
    "colab_type": "code",
    "id": "91G6iFPEWnc5"
   },
   "outputs": [],
   "source": [
    "# Float\n",
    "float(a)"
   ]
  },
  {
   "cell_type": "code",
   "execution_count": null,
   "metadata": {
    "colab": {},
    "colab_type": "code",
    "id": "reCYBrjSW-WZ"
   },
   "outputs": [],
   "source": [
    "# String\n",
    "str(a)"
   ]
  },
  {
   "cell_type": "code",
   "execution_count": null,
   "metadata": {
    "colab": {},
    "colab_type": "code",
    "id": "TopGFHnV_oqA"
   },
   "outputs": [],
   "source": [
    "str(a) + \"1\""
   ]
  },
  {
   "cell_type": "code",
   "execution_count": null,
   "metadata": {
    "colab": {},
    "colab_type": "code",
    "id": "w8Zv3DPAZUt3"
   },
   "outputs": [],
   "source": [
    "bool(a)"
   ]
  },
  {
   "cell_type": "code",
   "execution_count": null,
   "metadata": {
    "colab": {},
    "colab_type": "code",
    "id": "Zn5_2PblJ7DJ"
   },
   "outputs": [],
   "source": [
    "bool(None)"
   ]
  },
  {
   "cell_type": "code",
   "execution_count": null,
   "metadata": {
    "colab": {},
    "colab_type": "code",
    "id": "gUCKSUJmZeNS"
   },
   "outputs": [],
   "source": [
    "type(a)"
   ]
  },
  {
   "cell_type": "code",
   "execution_count": null,
   "metadata": {
    "colab": {},
    "colab_type": "code",
    "id": "myq5TcAWe7ZP"
   },
   "outputs": [],
   "source": [
    "b = \"Python!\"\n",
    "b"
   ]
  },
  {
   "cell_type": "markdown",
   "metadata": {
    "colab_type": "text",
    "id": "_jGLwZ_5a5GA"
   },
   "source": [
    "# Python Structures"
   ]
  },
  {
   "cell_type": "markdown",
   "metadata": {
    "colab_type": "text",
    "id": "4SeTYcMBqLjD"
   },
   "source": [
    "## List"
   ]
  },
  {
   "cell_type": "code",
   "execution_count": null,
   "metadata": {
    "colab": {},
    "colab_type": "code",
    "id": "4YcpeyeUbGca"
   },
   "outputs": [],
   "source": [
    "l = [b, a, a - 1, a]\n",
    "l"
   ]
  },
  {
   "cell_type": "code",
   "execution_count": null,
   "metadata": {
    "colab": {},
    "colab_type": "code",
    "id": "h5tpLduMfpIY"
   },
   "outputs": [],
   "source": [
    "len(l)"
   ]
  },
  {
   "cell_type": "code",
   "execution_count": null,
   "metadata": {
    "colab": {},
    "colab_type": "code",
    "id": "P_7Esctef3G5"
   },
   "outputs": [],
   "source": [
    "l[3] = 0\n",
    "l"
   ]
  },
  {
   "cell_type": "code",
   "execution_count": null,
   "metadata": {
    "colab": {},
    "colab_type": "code",
    "id": "VyVzFzgLCmGr"
   },
   "outputs": [],
   "source": [
    "# NameError\n",
    "l[4] = \":)\""
   ]
  },
  {
   "cell_type": "code",
   "execution_count": null,
   "metadata": {
    "colab": {},
    "colab_type": "code",
    "id": "jreK8tLJCvj5"
   },
   "outputs": [],
   "source": [
    "l"
   ]
  },
  {
   "cell_type": "code",
   "execution_count": null,
   "metadata": {
    "colab": {},
    "colab_type": "code",
    "id": "omSAISZ5CweV"
   },
   "outputs": [],
   "source": [
    "l.append(\":)\")\n",
    "l"
   ]
  },
  {
   "cell_type": "code",
   "execution_count": null,
   "metadata": {
    "colab": {},
    "colab_type": "code",
    "id": "SzfHN-iiC6Ag"
   },
   "outputs": [],
   "source": [
    "len(l)"
   ]
  },
  {
   "cell_type": "code",
   "execution_count": null,
   "metadata": {
    "colab": {},
    "colab_type": "code",
    "id": "MIQd0KpXC8DE"
   },
   "outputs": [],
   "source": [
    "l.pop()\n",
    "l"
   ]
  },
  {
   "cell_type": "code",
   "execution_count": null,
   "metadata": {
    "colab": {},
    "colab_type": "code",
    "id": "DqMoGEKxJGn9"
   },
   "outputs": [],
   "source": [
    "l.pop(3)\n",
    "l"
   ]
  },
  {
   "cell_type": "markdown",
   "metadata": {
    "colab_type": "text",
    "id": "DtYagBS_qQFy"
   },
   "source": [
    "## Tuple"
   ]
  },
  {
   "cell_type": "code",
   "execution_count": 2,
   "metadata": {
    "colab": {},
    "colab_type": "code",
    "id": "ueDnLunycWaY"
   },
   "outputs": [
    {
     "data": {
      "text/plain": [
       "(0, 1, 2, 3, 4)"
      ]
     },
     "execution_count": 2,
     "metadata": {},
     "output_type": "execute_result"
    }
   ],
   "source": [
    "t = (0, 1, 2, 3, 4)\n",
    "t"
   ]
  },
  {
   "cell_type": "code",
   "execution_count": null,
   "metadata": {
    "colab": {},
    "colab_type": "code",
    "id": "au0wM8XCgn_B"
   },
   "outputs": [],
   "source": [
    "len(t)"
   ]
  },
  {
   "cell_type": "code",
   "execution_count": 7,
   "metadata": {
    "colab": {},
    "colab_type": "code",
    "id": "_rkBkHYUguGs"
   },
   "outputs": [
    {
     "data": {
      "text/plain": [
       "()"
      ]
     },
     "execution_count": 7,
     "metadata": {},
     "output_type": "execute_result"
    }
   ],
   "source": [
    "t[3:2]"
   ]
  },
  {
   "cell_type": "code",
   "execution_count": 8,
   "metadata": {
    "colab": {},
    "colab_type": "code",
    "id": "n3myc9P4hCBD"
   },
   "outputs": [
    {
     "data": {
      "text/plain": [
       "4"
      ]
     },
     "execution_count": 8,
     "metadata": {},
     "output_type": "execute_result"
    }
   ],
   "source": [
    "t[-1]"
   ]
  },
  {
   "cell_type": "code",
   "execution_count": 9,
   "metadata": {
    "colab": {},
    "colab_type": "code",
    "id": "S0LgakJNhKZE"
   },
   "outputs": [
    {
     "data": {
      "text/plain": [
       "(2, 3, 4)"
      ]
     },
     "execution_count": 9,
     "metadata": {},
     "output_type": "execute_result"
    }
   ],
   "source": [
    "t[-3:]"
   ]
  },
  {
   "cell_type": "code",
   "execution_count": null,
   "metadata": {
    "colab": {},
    "colab_type": "code",
    "id": "vj_zrSjyhZBo"
   },
   "outputs": [],
   "source": [
    "# TypeError: Cannot edit tuple.\n",
    "t[4] = 5"
   ]
  },
  {
   "cell_type": "markdown",
   "metadata": {
    "colab_type": "text",
    "id": "69kUPKHLJb__"
   },
   "source": [
    "## Set"
   ]
  },
  {
   "cell_type": "code",
   "execution_count": 11,
   "metadata": {
    "colab": {},
    "colab_type": "code",
    "id": "IzN2IwqtJehQ"
   },
   "outputs": [
    {
     "data": {
      "text/plain": [
       "{1, 2, 3, 4, 5}"
      ]
     },
     "execution_count": 11,
     "metadata": {},
     "output_type": "execute_result"
    }
   ],
   "source": [
    "s = {1, 1, 2, 2, 2, 3, 3, 3, 3, 3, 4, 5, 5}\n",
    "s"
   ]
  },
  {
   "cell_type": "code",
   "execution_count": null,
   "metadata": {
    "colab": {},
    "colab_type": "code",
    "id": "uI6B8gzXK5ge"
   },
   "outputs": [],
   "source": [
    "len(s)"
   ]
  },
  {
   "cell_type": "code",
   "execution_count": null,
   "metadata": {
    "colab": {},
    "colab_type": "code",
    "id": "1Ct0_roAK8ea"
   },
   "outputs": [],
   "source": [
    "0 in s"
   ]
  },
  {
   "cell_type": "code",
   "execution_count": null,
   "metadata": {
    "colab": {},
    "colab_type": "code",
    "id": "acEJe37MK8x-"
   },
   "outputs": [],
   "source": [
    "1 not in s"
   ]
  },
  {
   "cell_type": "code",
   "execution_count": 13,
   "metadata": {
    "colab": {},
    "colab_type": "code",
    "id": "bmvtDGRTJqB0"
   },
   "outputs": [],
   "source": [
    "s1 = {5, 6, 6, 7}"
   ]
  },
  {
   "cell_type": "code",
   "execution_count": 14,
   "metadata": {
    "colab": {},
    "colab_type": "code",
    "id": "E_8aIn4YLIBS"
   },
   "outputs": [
    {
     "name": "stdout",
     "output_type": "stream",
     "text": [
      "s =  {1, 2, 3, 4, 5}\n",
      "s1 =  {5, 6, 7}\n",
      "s is a subset of s1 :  False\n",
      "s union s1 =  {1, 2, 3, 4, 5, 6, 7}\n",
      "s intersect s1 =  {5}\n",
      "s difference s1 {1, 2, 3, 4}\n",
      "s symetric difference s1 =  {1, 2, 3, 4, 6, 7}\n"
     ]
    }
   ],
   "source": [
    "print('s = ', s)\n",
    "print('s1 = ', s1)\n",
    "print('s is a subset of s1 : ', s <= s1)\n",
    "print('s union s1 = ', s | s1)\n",
    "print('s intersect s1 = ', s & s1)\n",
    "print('s difference s1', s - s1)\n",
    "print('s symetric difference s1 = ', s ^ s1)"
   ]
  },
  {
   "cell_type": "markdown",
   "metadata": {
    "colab_type": "text",
    "id": "5ReonijCBhrj"
   },
   "source": [
    "## Dictionary"
   ]
  },
  {
   "cell_type": "code",
   "execution_count": 5,
   "metadata": {
    "colab": {},
    "colab_type": "code",
    "id": "QvXx0QchiTts"
   },
   "outputs": [
    {
     "data": {
      "text/plain": [
       "{'A': 80, 'B': 70, 'C': 60, 'D': 50}"
      ]
     },
     "execution_count": 5,
     "metadata": {},
     "output_type": "execute_result"
    }
   ],
   "source": [
    "grade = {\n",
    "    \"A\" : 80,\n",
    "    \"B\" : 70,\n",
    "    \"C\" : 60,\n",
    "    \"D\" : 50\n",
    "}\n",
    "grade"
   ]
  },
  {
   "cell_type": "code",
   "execution_count": null,
   "metadata": {
    "colab": {},
    "colab_type": "code",
    "id": "kK1D_Izjq8Kj"
   },
   "outputs": [],
   "source": [
    "grade[\"A\"]"
   ]
  },
  {
   "cell_type": "code",
   "execution_count": null,
   "metadata": {
    "colab": {},
    "colab_type": "code",
    "id": "4hSmxQg8rAOa"
   },
   "outputs": [],
   "source": [
    "grade[\"B+\"] = 75\n",
    "grade"
   ]
  },
  {
   "cell_type": "code",
   "execution_count": null,
   "metadata": {
    "colab": {},
    "colab_type": "code",
    "id": "TAXxt9Z2hgwz"
   },
   "outputs": [],
   "source": [
    "d = {}\n",
    "d[\"s001\"] = \"Dog\"\n",
    "d[\"s002\"] = \"Cat\"\n",
    "d"
   ]
  },
  {
   "cell_type": "code",
   "execution_count": null,
   "metadata": {
    "colab": {},
    "colab_type": "code",
    "id": "pJdFriSPBuDy"
   },
   "outputs": [],
   "source": [
    "d[\"s001\"]"
   ]
  },
  {
   "cell_type": "markdown",
   "metadata": {
    "colab_type": "text",
    "id": "3ZyIaJomrYPJ"
   },
   "source": [
    "# Python String"
   ]
  },
  {
   "cell_type": "code",
   "execution_count": null,
   "metadata": {
    "colab": {},
    "colab_type": "code",
    "id": "PwkD2_FxrXjm"
   },
   "outputs": [],
   "source": [
    "sentence = \" Hello Corgi. I am hungry. \""
   ]
  },
  {
   "cell_type": "code",
   "execution_count": null,
   "metadata": {
    "colab": {},
    "colab_type": "code",
    "id": "OfSs6-_Xr7Nn"
   },
   "outputs": [],
   "source": [
    "sentence[1]"
   ]
  },
  {
   "cell_type": "code",
   "execution_count": null,
   "metadata": {
    "colab": {},
    "colab_type": "code",
    "id": "9-o4xocQ5she"
   },
   "outputs": [],
   "source": [
    "sentence[1:12]"
   ]
  },
  {
   "cell_type": "code",
   "execution_count": null,
   "metadata": {
    "colab": {},
    "colab_type": "code",
    "id": "nxSxmQcyrmQQ"
   },
   "outputs": [],
   "source": [
    "sentence.strip()"
   ]
  },
  {
   "cell_type": "code",
   "execution_count": null,
   "metadata": {
    "colab": {},
    "colab_type": "code",
    "id": "r1I9hlv6r4FB"
   },
   "outputs": [],
   "source": [
    "sentence.strip().split(' ')"
   ]
  },
  {
   "cell_type": "code",
   "execution_count": null,
   "metadata": {
    "colab": {},
    "colab_type": "code",
    "id": "BdxmLMEuqv2j"
   },
   "outputs": [],
   "source": [
    "ss = ' '.join(sentence.strip().split(' '))\n",
    "ss"
   ]
  },
  {
   "cell_type": "markdown",
   "metadata": {
    "colab_type": "text",
    "id": "6Ktf3sJeqq6x"
   },
   "source": [
    "# Loop and Condition"
   ]
  },
  {
   "cell_type": "markdown",
   "metadata": {
    "colab_type": "text",
    "id": "qlITntz01Uhm"
   },
   "source": [
    "## For loop"
   ]
  },
  {
   "cell_type": "code",
   "execution_count": null,
   "metadata": {
    "colab": {},
    "colab_type": "code",
    "id": "N4TOwdrCMlaY"
   },
   "outputs": [],
   "source": [
    "l"
   ]
  },
  {
   "cell_type": "code",
   "execution_count": null,
   "metadata": {
    "colab": {},
    "colab_type": "code",
    "id": "Iguikec5vq7K"
   },
   "outputs": [],
   "source": [
    "for item in l:\n",
    "  print(item)"
   ]
  },
  {
   "cell_type": "code",
   "execution_count": null,
   "metadata": {
    "colab": {},
    "colab_type": "code",
    "id": "UPMugiFPMyLz"
   },
   "outputs": [],
   "source": [
    "t"
   ]
  },
  {
   "cell_type": "code",
   "execution_count": null,
   "metadata": {
    "colab": {},
    "colab_type": "code",
    "id": "lOBC3OJpvzGK"
   },
   "outputs": [],
   "source": [
    "# List Comprehension\n",
    "[i for i in t]"
   ]
  },
  {
   "cell_type": "code",
   "execution_count": null,
   "metadata": {
    "colab": {},
    "colab_type": "code",
    "id": "jqnhTZOYM9gq"
   },
   "outputs": [],
   "source": [
    "[i for i in range(100)]"
   ]
  },
  {
   "cell_type": "markdown",
   "metadata": {
    "colab_type": "text",
    "id": "pI897Mvy4yls"
   },
   "source": [
    "## If condition"
   ]
  },
  {
   "cell_type": "code",
   "execution_count": null,
   "metadata": {
    "colab": {},
    "colab_type": "code",
    "id": "o2ASqKBy40vF"
   },
   "outputs": [],
   "source": [
    "if len(t) == 5:\n",
    "  print('length is 5')\n",
    "else:\n",
    "  print('length not equals 5')"
   ]
  },
  {
   "cell_type": "code",
   "execution_count": null,
   "metadata": {
    "colab": {},
    "colab_type": "code",
    "id": "C7bVD-2V75P-"
   },
   "outputs": [],
   "source": [
    "score = 90\n",
    "if score >= grade[\"A\"]:\n",
    "  print(\"A\")\n",
    "  print(\"Good Job!\")\n",
    "elif score >= grade[\"B+\"]:\n",
    "  print(\"B+\")\n",
    "elif score >= grade[\"B\"]:\n",
    "  print(\"B\")\n",
    "elif score >= grade[\"C\"]:\n",
    "  print(\"C\")\n",
    "elif score >= grade[\"D\"]:\n",
    "  print(\"D\")\n",
    "else:\n",
    "  print(\"F\")"
   ]
  },
  {
   "cell_type": "markdown",
   "metadata": {
    "colab_type": "text",
    "id": "Xngkc9Ug-Yb6"
   },
   "source": [
    "#Working with Files"
   ]
  },
  {
   "cell_type": "markdown",
   "metadata": {
    "colab_type": "text",
    "id": "D4XDOh8E-n5u"
   },
   "source": [
    "## Write file"
   ]
  },
  {
   "cell_type": "code",
   "execution_count": null,
   "metadata": {
    "colab": {},
    "colab_type": "code",
    "id": "0Yejt2B2-6aR"
   },
   "outputs": [],
   "source": [
    "file = open('output.csv', 'w')\n",
    "file.write(\"date,item,price\\n\")\n",
    "file.write(\"2020-02-07,Milk,26.5\\n\")\n",
    "file.write(\"2020-02-08,Water,7\\n\")\n",
    "file.close()"
   ]
  },
  {
   "cell_type": "code",
   "execution_count": null,
   "metadata": {
    "colab": {},
    "colab_type": "code",
    "id": "y_Rn9N8I_Gik"
   },
   "outputs": [],
   "source": [
    "header = (\"date\", \"item\", \"price\")\n",
    "content = [\n",
    "    (\"2020-02-07\", \"Milk\", \"26.5\"),\n",
    "    (\"2020-02-08\", \"Water\", \"7\"),\n",
    "    (\"2020-02-08\", \"Mask\", \"20\"),\n",
    "    (\"2020-02-08\", \"Lays\", \"10\"),\n",
    "    (\"2020-02-08\", \"Rice\", \"6\")\n",
    "]\n",
    "\n",
    "file = open('products.csv', 'w')\n",
    "file.write(\",\".join(header) + \"\\n\")\n",
    "\n",
    "for row in content:\n",
    "  file.write(\",\".join(row) + \"\\n\")\n",
    "\n",
    "file.close()"
   ]
  },
  {
   "cell_type": "markdown",
   "metadata": {
    "colab_type": "text",
    "id": "MQnwMZNj-nMI"
   },
   "source": [
    "## Read file"
   ]
  },
  {
   "cell_type": "code",
   "execution_count": null,
   "metadata": {
    "colab": {},
    "colab_type": "code",
    "id": "K29D1lQy-7Hu"
   },
   "outputs": [],
   "source": [
    "with open(\"products.csv\", \"r\") as f:\n",
    "  product = f.readlines()\n",
    "\n",
    "product"
   ]
  },
  {
   "cell_type": "markdown",
   "metadata": {
    "colab_type": "text",
    "id": "VxYEPVdK-t30"
   },
   "source": [
    "## Use Pandas to Read/Write file"
   ]
  },
  {
   "cell_type": "code",
   "execution_count": null,
   "metadata": {
    "colab": {},
    "colab_type": "code",
    "id": "bo1L_B0_-70m"
   },
   "outputs": [],
   "source": [
    "import pandas as pd\n",
    "\n",
    "products = pd.read_csv(\"products.csv\")\n",
    "products"
   ]
  },
  {
   "cell_type": "code",
   "execution_count": null,
   "metadata": {
    "colab": {},
    "colab_type": "code",
    "id": "LNsQqU-l_RjV"
   },
   "outputs": [],
   "source": [
    "type(products)"
   ]
  },
  {
   "cell_type": "code",
   "execution_count": null,
   "metadata": {
    "colab": {},
    "colab_type": "code",
    "id": "QA0ddnbm_V9Y"
   },
   "outputs": [],
   "source": [
    "products.to_csv(\"new_products.csv\")\n",
    "products"
   ]
  },
  {
   "cell_type": "markdown",
   "metadata": {
    "colab_type": "text",
    "id": "ZH7k7_5hESCa"
   },
   "source": [
    "## Tips : JSON in Python\n",
    "> JSON is mainly used to convert the python dictionary above into a JSON string that can be written into a file.\n",
    "\n",
    "> JSON is MAGIC!"
   ]
  },
  {
   "cell_type": "code",
   "execution_count": 6,
   "metadata": {
    "colab": {},
    "colab_type": "code",
    "id": "QJuhygUo7VQI"
   },
   "outputs": [
    {
     "data": {
      "text/plain": [
       "dict"
      ]
     },
     "execution_count": 6,
     "metadata": {},
     "output_type": "execute_result"
    }
   ],
   "source": [
    "type(grade)"
   ]
  },
  {
   "cell_type": "code",
   "execution_count": 7,
   "metadata": {
    "colab": {},
    "colab_type": "code",
    "id": "qXT0waorQFxf"
   },
   "outputs": [],
   "source": [
    "import json"
   ]
  },
  {
   "cell_type": "code",
   "execution_count": 8,
   "metadata": {
    "colab": {},
    "colab_type": "code",
    "id": "aLziZxXe7N7n"
   },
   "outputs": [
    {
     "data": {
      "text/plain": [
       "'{\"A\": 80, \"B\": 70, \"C\": 60, \"D\": 50}'"
      ]
     },
     "execution_count": 8,
     "metadata": {},
     "output_type": "execute_result"
    }
   ],
   "source": [
    "json.dumps(grade)"
   ]
  },
  {
   "cell_type": "code",
   "execution_count": 9,
   "metadata": {
    "colab": {},
    "colab_type": "code",
    "id": "kqb-v-jU8pua"
   },
   "outputs": [
    {
     "data": {
      "text/plain": [
       "str"
      ]
     },
     "execution_count": 9,
     "metadata": {},
     "output_type": "execute_result"
    }
   ],
   "source": [
    "type(json.dumps(grade))"
   ]
  },
  {
   "cell_type": "code",
   "execution_count": 10,
   "metadata": {
    "colab": {},
    "colab_type": "code",
    "id": "fRzd7zDw9Fyq"
   },
   "outputs": [],
   "source": [
    "json_str = json.dumps(grade)"
   ]
  },
  {
   "cell_type": "code",
   "execution_count": 11,
   "metadata": {
    "colab": {},
    "colab_type": "code",
    "id": "GCep6wVf8xpX"
   },
   "outputs": [
    {
     "data": {
      "text/plain": [
       "{'A': 80, 'B': 70, 'C': 60, 'D': 50}"
      ]
     },
     "execution_count": 11,
     "metadata": {},
     "output_type": "execute_result"
    }
   ],
   "source": [
    "json.loads(json_str)"
   ]
  },
  {
   "cell_type": "code",
   "execution_count": 12,
   "metadata": {
    "colab": {},
    "colab_type": "code",
    "id": "6KKa-0ni9r2E"
   },
   "outputs": [
    {
     "data": {
      "text/plain": [
       "dict"
      ]
     },
     "execution_count": 12,
     "metadata": {},
     "output_type": "execute_result"
    }
   ],
   "source": [
    "type(json.loads(json_str))"
   ]
  },
  {
   "cell_type": "code",
   "execution_count": 13,
   "metadata": {
    "colab": {},
    "colab_type": "code",
    "id": "z1_5vfvr99pw"
   },
   "outputs": [],
   "source": [
    "# Save to output file grade.json\n",
    "json.dump(grade, open(\"grade.json\", \"w\"))"
   ]
  },
  {
   "cell_type": "markdown",
   "metadata": {
    "colab_type": "text",
    "id": "skWzMnK81nL5"
   },
   "source": [
    "# Function\n",
    "\n",
    "*   Standard Library\n",
    "**   Built-in functions [อ่านเพิ่มเติม](https://docs.python.org/3.6/library/functions.html)\n",
    "**   Library functions [อ่านเพิ่มเติม](https://pypi.org/)\n",
    "*   User defined functions\n",
    "\n"
   ]
  },
  {
   "cell_type": "markdown",
   "metadata": {
    "colab_type": "text",
    "id": "Ftu2euHycYAA"
   },
   "source": [
    "## Python Packages"
   ]
  },
  {
   "cell_type": "code",
   "execution_count": null,
   "metadata": {
    "colab": {},
    "colab_type": "code",
    "id": "efDIf2UvcjT8"
   },
   "outputs": [],
   "source": [
    "import __hello__"
   ]
  },
  {
   "cell_type": "code",
   "execution_count": null,
   "metadata": {
    "colab": {},
    "colab_type": "code",
    "id": "svhdHM4Y5oPT"
   },
   "outputs": [],
   "source": [
    "!pip list"
   ]
  },
  {
   "cell_type": "code",
   "execution_count": null,
   "metadata": {
    "colab": {},
    "colab_type": "code",
    "id": "7_LUlsGTcxDT"
   },
   "outputs": [],
   "source": [
    "import math\n",
    "\n",
    "math.pi"
   ]
  },
  {
   "cell_type": "markdown",
   "metadata": {
    "colab_type": "text",
    "id": "USn2zGrvdYOy"
   },
   "source": [
    "or using from statement"
   ]
  },
  {
   "cell_type": "code",
   "execution_count": null,
   "metadata": {
    "colab": {},
    "colab_type": "code",
    "id": "YVigxwRvdFcL"
   },
   "outputs": [],
   "source": [
    "from math import pi\n",
    "\n",
    "pi"
   ]
  },
  {
   "cell_type": "markdown",
   "metadata": {
    "colab_type": "text",
    "id": "dEyyUh5P70iV"
   },
   "source": [
    "Datetime function"
   ]
  },
  {
   "cell_type": "code",
   "execution_count": null,
   "metadata": {
    "colab": {},
    "colab_type": "code",
    "id": "qFB9ARmS5Ay_"
   },
   "outputs": [],
   "source": [
    "import datetime\n",
    "\n",
    "now = datetime.datetime.now()\n",
    "now"
   ]
  },
  {
   "cell_type": "code",
   "execution_count": null,
   "metadata": {
    "colab": {},
    "colab_type": "code",
    "id": "qAWFFFXQrW2B"
   },
   "outputs": [],
   "source": [
    "import pytz\n",
    "# print('all_timezones =', pytz.all_timezones, '\\n')\n",
    "tz = pytz.timezone('Asia/Bangkok')\n",
    "\n",
    "datetime.datetime.now(tz)"
   ]
  },
  {
   "cell_type": "code",
   "execution_count": null,
   "metadata": {
    "colab": {},
    "colab_type": "code",
    "id": "J8_GMvT6UpxH"
   },
   "outputs": [],
   "source": [
    "now.astimezone()"
   ]
  },
  {
   "cell_type": "code",
   "execution_count": null,
   "metadata": {
    "colab": {},
    "colab_type": "code",
    "id": "0qTBCCUhqslU"
   },
   "outputs": [],
   "source": [
    "now.utcnow()"
   ]
  },
  {
   "cell_type": "code",
   "execution_count": null,
   "metadata": {
    "colab": {},
    "colab_type": "code",
    "id": "Hjf2A4WAO4Sh"
   },
   "outputs": [],
   "source": [
    "now.isoformat()"
   ]
  },
  {
   "cell_type": "code",
   "execution_count": null,
   "metadata": {
    "colab": {},
    "colab_type": "code",
    "id": "mP7YZxDR5X6l"
   },
   "outputs": [],
   "source": [
    "today = datetime.date.today()"
   ]
  },
  {
   "cell_type": "code",
   "execution_count": null,
   "metadata": {
    "colab": {},
    "colab_type": "code",
    "id": "yaWMiGH0O-sI"
   },
   "outputs": [],
   "source": [
    "today.isoformat()"
   ]
  },
  {
   "cell_type": "markdown",
   "metadata": {
    "colab_type": "text",
    "id": "pjRhF6m9w0WZ"
   },
   "source": [
    "## Simple functions\n",
    "\n",
    "```\n",
    "# def function_name ( [parameter list] ):\n",
    "#  statements\n",
    "#  [ return exression ]\n",
    "# \n",
    "# [VariableName =] function_name ( [argument list] )\n",
    "```\n",
    "\n"
   ]
  },
  {
   "cell_type": "code",
   "execution_count": null,
   "metadata": {
    "colab": {},
    "colab_type": "code",
    "id": "F1Bio3zD2WX2"
   },
   "outputs": [],
   "source": [
    "def simplefunc():\n",
    "  s = \"ละแมะว่างจริงๆ อะหรือ อะหรือ... อะหรือว่ามีคนอื่น...\"\n",
    "  print(s)\n",
    "\n",
    "simplefunc()"
   ]
  },
  {
   "cell_type": "markdown",
   "metadata": {
    "colab_type": "text",
    "id": "mfk0js2-uLHn"
   },
   "source": [
    "### Function arguments\n",
    "\n",
    "* Position arguments\n",
    "* Default arguments\n",
    "* Keyword arguments\n",
    "* Variable-length arguments"
   ]
  },
  {
   "cell_type": "code",
   "execution_count": null,
   "metadata": {
    "colab": {},
    "colab_type": "code",
    "id": "4Qruy5d21l76"
   },
   "outputs": [],
   "source": [
    "# position arguments\n",
    "def circle_area(radius):\n",
    "  return pi * radius * radius\n",
    "\n",
    "circle_area(2)"
   ]
  },
  {
   "cell_type": "code",
   "execution_count": null,
   "metadata": {
    "colab": {},
    "colab_type": "code",
    "id": "-rtsx6QW12aM"
   },
   "outputs": [],
   "source": [
    "def rectangle_area(height, width):\n",
    "  return height * width\n",
    "\n",
    "square_area(4, 5)"
   ]
  },
  {
   "cell_type": "code",
   "execution_count": null,
   "metadata": {
    "colab": {},
    "colab_type": "code",
    "id": "lswe1z6S3rtX"
   },
   "outputs": [],
   "source": [
    "# default arguments\n",
    "def conversion(amount, rate=31.33):\n",
    "  return amount * rate\n",
    "\n",
    "\n",
    "conversion(30)"
   ]
  },
  {
   "cell_type": "code",
   "execution_count": null,
   "metadata": {
    "colab": {},
    "colab_type": "code",
    "id": "uWD-VVlP4jFx"
   },
   "outputs": [],
   "source": [
    "conversion(30, 33.3333)"
   ]
  },
  {
   "cell_type": "code",
   "execution_count": null,
   "metadata": {
    "colab": {},
    "colab_type": "code",
    "id": "kxWoAba93wI6"
   },
   "outputs": [],
   "source": [
    "# Keyword argument\n",
    "conversion(amount= 30, rate=33.3333)"
   ]
  },
  {
   "cell_type": "code",
   "execution_count": null,
   "metadata": {
    "colab": {},
    "colab_type": "code",
    "id": "wuECdWqJu9IH"
   },
   "outputs": [],
   "source": [
    "def plus(a = 1, b = 2):\n",
    "  return a + b\n",
    "\n",
    "plus(4)"
   ]
  },
  {
   "cell_type": "code",
   "execution_count": null,
   "metadata": {
    "colab": {},
    "colab_type": "code",
    "id": "C9up7MWo4gsm"
   },
   "outputs": [],
   "source": [
    "# Variable-length arguments\n",
    "# def functionname( [formal_args], *var_args ):\n",
    "#   statement\n",
    "\n",
    "def salesAmount(product, *sales):\n",
    "  result = 0\n",
    "  print(\"Product name : \", product)\n",
    "  if len(sales) == 0:\n",
    "    print(\"No SalesAmount\")\n",
    "  else:\n",
    "    for var in sales:\n",
    "      result += var\n",
    "    print(\"SalesAmount = \", result)\n",
    "\n",
    "salesAmount(\"Book\", 10, 20, 50)"
   ]
  },
  {
   "cell_type": "markdown",
   "metadata": {
    "colab_type": "text",
    "id": "nozDxGMDoM6b"
   },
   "source": [
    "### Variable scope\n",
    "\n",
    "*   Local variable\n",
    "*   Global variable\n",
    "*   Nonlocal variable * support for python3+ *\n",
    "\n"
   ]
  },
  {
   "cell_type": "code",
   "execution_count": null,
   "metadata": {
    "colab": {},
    "colab_type": "code",
    "id": "Pd8dsgNdo_iV"
   },
   "outputs": [],
   "source": [
    "# Local variable\n",
    "def myfuncLocal():\n",
    "  s = \"This is local variable\"\n",
    "  print(s)\n",
    "\n",
    "myfuncLocal()"
   ]
  },
  {
   "cell_type": "code",
   "execution_count": null,
   "metadata": {
    "colab": {},
    "colab_type": "code",
    "id": "mqIJhb68pVGk"
   },
   "outputs": [],
   "source": [
    "# Global variable\n",
    "g = \"This is global variable\"\n",
    "def myfuncGlobal():\n",
    "  print(g)\n",
    "\n",
    "myfuncGlobal()"
   ]
  },
  {
   "cell_type": "code",
   "execution_count": null,
   "metadata": {
    "colab": {},
    "colab_type": "code",
    "id": "t5433178qsYh"
   },
   "outputs": [],
   "source": [
    "# Nonlocal variable\n",
    "def funcMain():\n",
    "  # global x\n",
    "  x = 30\n",
    "  def funcSub():\n",
    "    x = 19\n",
    "  print(\"Before calling subfunction : x = \", x)\n",
    "  funcSub()\n",
    "  print(\"After calling subfunction : x = \", x)\n",
    "\n",
    "x = 85 # define global variable\n",
    "funcMain()\n",
    "print(\"Value of x in mainfunction : x = \", x)"
   ]
  },
  {
   "cell_type": "markdown",
   "metadata": {
    "colab_type": "text",
    "id": "kSborAT8qTuT"
   },
   "source": [
    "## Lambda function\n",
    "\n",
    "```\n",
    "# function_name = lambda [arg1 [, arg2,..., argn]] : expression\n",
    "```\n",
    "\n"
   ]
  },
  {
   "cell_type": "code",
   "execution_count": null,
   "metadata": {
    "colab": {},
    "colab_type": "code",
    "id": "ZkKVFYaZ7THM"
   },
   "outputs": [],
   "source": [
    "rectangle_area = lambda height, width : height * width\n",
    "rectangle_area(10, 20)"
   ]
  },
  {
   "cell_type": "code",
   "execution_count": null,
   "metadata": {
    "colab": {},
    "colab_type": "code",
    "id": "5Izal8_i7ns6"
   },
   "outputs": [],
   "source": [
    "theta = lambda i : 2*i if (i < 5) else 0\n",
    "THETA = [theta(i) for i in range(1, 10)]\n",
    "THETA"
   ]
  },
  {
   "cell_type": "markdown",
   "metadata": {
    "colab_type": "text",
    "id": "tLZv8qCUA2h-"
   },
   "source": [
    "# Object Oriented Programming : OOP"
   ]
  },
  {
   "cell_type": "markdown",
   "metadata": {
    "colab_type": "text",
    "id": "ZVaNzuJkMBTv"
   },
   "source": [
    "## Class & Object"
   ]
  },
  {
   "cell_type": "markdown",
   "metadata": {
    "colab_type": "text",
    "id": "8jNy-QOonITa"
   },
   "source": [
    "### Class\n",
    "\n",
    "```\n",
    "# class ClassName :\n",
    "#   ['document']\n",
    "#   class_suit\n",
    "# \n",
    "# objName = ClassName()\n",
    "```\n",
    "\n"
   ]
  },
  {
   "cell_type": "code",
   "execution_count": null,
   "metadata": {
    "colab": {},
    "colab_type": "code",
    "id": "AKlSzb91np8C"
   },
   "outputs": [],
   "source": [
    "# empty class\n",
    "class ClassEmpty :\n",
    "  'This is empty class'\n",
    "  pass\n",
    "\n",
    "E = ClassEmpty()\n",
    "E"
   ]
  },
  {
   "cell_type": "markdown",
   "metadata": {
    "colab_type": "text",
    "id": "qUK9HvyyCs7V"
   },
   "source": [
    "### Class variable"
   ]
  },
  {
   "cell_type": "code",
   "execution_count": 24,
   "metadata": {
    "colab": {},
    "colab_type": "code",
    "id": "cobqBO0s_e89"
   },
   "outputs": [
    {
     "name": "stdout",
     "output_type": "stream",
     "text": [
      "Enter your name : ddd\n",
      "Your name is : ddd\n",
      "ddd\n",
      "Rename me: qwewqeeqwe\n",
      "qwewqeeqwe\n"
     ]
    }
   ],
   "source": [
    "class ClassA :\n",
    "    def __init__(self):\n",
    "        self.name = input('Enter your name : ')\n",
    "        print('Your name is :', self.name)\n",
    "\n",
    "A = ClassA()\n",
    "print(A.name)\n",
    "A.name = input(\"Rename me: \")\n",
    "print(A.name)"
   ]
  },
  {
   "cell_type": "markdown",
   "metadata": {
    "colab_type": "text",
    "id": "1jDS6kxwCzmV"
   },
   "source": [
    "### Instance variables"
   ]
  },
  {
   "cell_type": "code",
   "execution_count": 27,
   "metadata": {
    "colab": {},
    "colab_type": "code",
    "id": "xNCiRt4oCdOd"
   },
   "outputs": [],
   "source": [
    "class ClassB :\n",
    "    'Name & salary'\n",
    "    CustomerID = 0\n",
    "    # Constructor\n",
    "    def __init__(self, name, salary):\n",
    "        self.name = name\n",
    "        self.salary = salary\n",
    "        ClassB.CustomerID += 1\n",
    "    def __del__(self):\n",
    "        print(f\"{self.name} destroyed\")\n"
   ]
  },
  {
   "cell_type": "code",
   "execution_count": 28,
   "metadata": {
    "colab": {},
    "colab_type": "code",
    "id": "Paguy7UZIDoo"
   },
   "outputs": [
    {
     "name": "stdout",
     "output_type": "stream",
     "text": [
      "Enter your name : ss\n",
      "Your salary : 10\n",
      "-----CustomerInfo-----\n",
      "CustomerID : 1\n",
      "Name : ss \n",
      "Salary : $ 10\n"
     ]
    }
   ],
   "source": [
    "name = input('Enter your name : ')\n",
    "salary = input('Your salary : ')\n",
    "B = ClassB(name, salary)\n",
    "print(\"-----CustomerInfo-----\")\n",
    "print(\"CustomerID :\", B.CustomerID)\n",
    "print(\"Name :\", B.name, \"\\nSalary : $\", B.salary)"
   ]
  },
  {
   "cell_type": "code",
   "execution_count": null,
   "metadata": {
    "colab": {},
    "colab_type": "code",
    "id": "8SHli-NRFM0K"
   },
   "outputs": [],
   "source": [
    "B = ClassB(\"Limpapat\", 5)"
   ]
  },
  {
   "cell_type": "code",
   "execution_count": null,
   "metadata": {
    "colab": {},
    "colab_type": "code",
    "id": "DRIurVuG2SKw"
   },
   "outputs": [],
   "source": [
    "print(\"-----CustomerInfo-----\")\n",
    "print(\"CustomerID :\", B.CustomerID)\n",
    "print(\"Name :\", B.name, \"\\nSalary : $\", B.salary)"
   ]
  },
  {
   "cell_type": "markdown",
   "metadata": {
    "colab_type": "text",
    "id": "RM0hZn8SKH4A"
   },
   "source": [
    "### Method"
   ]
  },
  {
   "cell_type": "code",
   "execution_count": null,
   "metadata": {
    "colab": {},
    "colab_type": "code",
    "id": "ca9W2NX7KAXf"
   },
   "outputs": [],
   "source": []
  },
  {
   "cell_type": "code",
   "execution_count": 30,
   "metadata": {
    "colab": {},
    "colab_type": "code",
    "id": "l8jcZu25KTbs"
   },
   "outputs": [
    {
     "name": "stdout",
     "output_type": "stream",
     "text": [
      "Limpapat destroyed\n"
     ]
    }
   ],
   "source": [
    "B = ClassB(\"Limpapat\", 5)\n",
    "# B.displayInfo()"
   ]
  },
  {
   "cell_type": "markdown",
   "metadata": {
    "colab_type": "text",
    "id": "SMt6bRvBKOEw"
   },
   "source": [
    "### Destructor"
   ]
  },
  {
   "cell_type": "code",
   "execution_count": null,
   "metadata": {
    "colab": {},
    "colab_type": "code",
    "id": "tvsZvyckKRZ7"
   },
   "outputs": [],
   "source": []
  },
  {
   "cell_type": "code",
   "execution_count": 29,
   "metadata": {
    "colab": {},
    "colab_type": "code",
    "id": "YJzwFmYHLyvG"
   },
   "outputs": [
    {
     "name": "stdout",
     "output_type": "stream",
     "text": [
      "ss destroyed\n"
     ]
    },
    {
     "ename": "AttributeError",
     "evalue": "'ClassB' object has no attribute 'displayInfo'",
     "output_type": "error",
     "traceback": [
      "\u001b[0;31m---------------------------------------------------------------------------\u001b[0m",
      "\u001b[0;31mAttributeError\u001b[0m                            Traceback (most recent call last)",
      "\u001b[0;32m<ipython-input-29-1502517837e3>\u001b[0m in \u001b[0;36m<module>\u001b[0;34m\u001b[0m\n\u001b[1;32m      1\u001b[0m \u001b[0mB\u001b[0m \u001b[0;34m=\u001b[0m \u001b[0mClassB\u001b[0m\u001b[0;34m(\u001b[0m\u001b[0;34m\"Limpapat\"\u001b[0m\u001b[0;34m,\u001b[0m \u001b[0;36m5\u001b[0m\u001b[0;34m)\u001b[0m\u001b[0;34m\u001b[0m\u001b[0;34m\u001b[0m\u001b[0m\n\u001b[0;32m----> 2\u001b[0;31m \u001b[0mB\u001b[0m\u001b[0;34m.\u001b[0m\u001b[0mdisplayInfo\u001b[0m\u001b[0;34m(\u001b[0m\u001b[0;34m)\u001b[0m\u001b[0;34m\u001b[0m\u001b[0;34m\u001b[0m\u001b[0m\n\u001b[0m",
      "\u001b[0;31mAttributeError\u001b[0m: 'ClassB' object has no attribute 'displayInfo'"
     ]
    }
   ],
   "source": [
    "B = ClassB(\"Limpapat\", 5)\n",
    "B.displayInfo()"
   ]
  },
  {
   "cell_type": "code",
   "execution_count": 31,
   "metadata": {
    "colab": {},
    "colab_type": "code",
    "id": "TC9vO7BALkAt"
   },
   "outputs": [
    {
     "name": "stdout",
     "output_type": "stream",
     "text": [
      "Limpapat destroyed\n"
     ]
    }
   ],
   "source": [
    "del B"
   ]
  },
  {
   "cell_type": "markdown",
   "metadata": {
    "colab_type": "text",
    "id": "GkLu3jQ_MOZ6"
   },
   "source": [
    "## Inheritance class\n",
    "\n",
    "```\n",
    "# Class Parent :\n",
    "#   Member_Parent\n",
    "#    ........\n",
    "# Class Child (Parent):\n",
    "#   Member_Child\n",
    "#    ........\n",
    "```\n",
    "\n"
   ]
  },
  {
   "cell_type": "code",
   "execution_count": null,
   "metadata": {
    "colab": {},
    "colab_type": "code",
    "id": "3DzG6b7xNhaM"
   },
   "outputs": [],
   "source": [
    "class Parent :\n",
    "  'Name & salary'\n",
    "  CustomerID = 0\n",
    "  # Constructor\n",
    "  def __init__(self, name, salary = 10):\n",
    "    self.name = name\n",
    "    self.salary = salary\n",
    "    Parent.CustomerID += 1\n",
    "  # Destructor\n",
    "  def __del__(self):\n",
    "    print(self.name, \"destroyed!\")\n",
    "  # Methods\n",
    "  def displayInfo(self):\n",
    "    print(\"-----CustomerInfo-----\")\n",
    "    print(\"CustomerID :\", Parent.CustomerID)\n",
    "    print(\"Name :\", self.name, \"\\nSalary : $\", self.salary)\n",
    "\n",
    "class Child(Parent) :\n",
    "  def printName(self):\n",
    "    print(\"Customer name is\", self.name)"
   ]
  },
  {
   "cell_type": "code",
   "execution_count": null,
   "metadata": {
    "colab": {},
    "colab_type": "code",
    "id": "TxJ5DdcaRJT3"
   },
   "outputs": [],
   "source": [
    "C = Child(\"Bussaban\", 2)\n",
    "C.displayInfo()\n",
    "C.printName()"
   ]
  },
  {
   "cell_type": "markdown",
   "metadata": {
    "colab_type": "text",
    "id": "bHwIWZSCO5Mv"
   },
   "source": [
    "### Overriding method"
   ]
  },
  {
   "cell_type": "code",
   "execution_count": null,
   "metadata": {
    "colab": {},
    "colab_type": "code",
    "id": "af7be9RVPBtk"
   },
   "outputs": [],
   "source": [
    "class Child(Parent) :\n",
    "  def printName(self):\n",
    "    print(\"Customer name is\", self.name)\n",
    "  def displayInfo(self):\n",
    "    print(\"This is a new method!\")\n",
    "    print(\"CustomerID :\", Parent.CustomerID, \", Name :\", self.name, \", Salary : $\", self.salary)"
   ]
  },
  {
   "cell_type": "code",
   "execution_count": null,
   "metadata": {
    "colab": {},
    "colab_type": "code",
    "id": "dFBqjW9STtiy"
   },
   "outputs": [],
   "source": [
    "D = Child(\"Bussaban\", 2)\n",
    "D.displayInfo()"
   ]
  },
  {
   "cell_type": "code",
   "execution_count": null,
   "metadata": {
    "colab": {},
    "colab_type": "code",
    "id": "AwcHJa14UH3Z"
   },
   "outputs": [],
   "source": [
    "D1 = Parent(\"Bussaban\", 2)\n",
    "D1.displayInfo()"
   ]
  },
  {
   "cell_type": "markdown",
   "metadata": {
    "colab_type": "text",
    "id": "SOk7DW4NPCVQ"
   },
   "source": [
    "### Multiple inheritance\n",
    "\n",
    "```\n",
    "# Class ParentA :\n",
    "#   Member_ParentA\n",
    "#    ........\n",
    "# Class ParentB :\n",
    "#   Member_ParentB\n",
    "#    ........\n",
    "# Class Child (ParentA, ParentB):\n",
    "#   Member_Child\n",
    "#    ........\n",
    "```"
   ]
  },
  {
   "cell_type": "code",
   "execution_count": null,
   "metadata": {
    "colab": {},
    "colab_type": "code",
    "id": "tMqzWrsNPW-c"
   },
   "outputs": [],
   "source": [
    "class father :\n",
    "  def __init__(self):\n",
    "    print(\"This is Darth Vader, I'm your father!\")\n",
    "class mother :\n",
    "  def __init__(self):\n",
    "    print(\"This is Padme, I'm your mother!\")\n",
    "class child(father, mother) :\n",
    "  def __init__(self):\n",
    "    self.name = \"Luke Skywalker\"\n",
    "  def print(self):\n",
    "    father.__init__(self)\n",
    "    mother.__init__(self)\n",
    "    print(\"This is\", self.name, \", I'm jedi!\")"
   ]
  },
  {
   "cell_type": "code",
   "execution_count": null,
   "metadata": {
    "colab": {},
    "colab_type": "code",
    "id": "Dvq1MglLDWy6"
   },
   "outputs": [],
   "source": [
    "C = child()\n",
    "C.print()"
   ]
  },
  {
   "cell_type": "markdown",
   "metadata": {
    "colab_type": "text",
    "id": "L6Kn_bjb9_Og"
   },
   "source": [
    "### Tips: Super( ) function\n",
    "[อ่านเพิ่มเติม](https://docs.python.org/3/library/functions.html#super)"
   ]
  },
  {
   "cell_type": "code",
   "execution_count": null,
   "metadata": {
    "colab": {},
    "colab_type": "code",
    "id": "9m_ycw7stKA8"
   },
   "outputs": [],
   "source": [
    "class Rectangle :\n",
    "  def __init__(self, width, length):\n",
    "    self.width = width\n",
    "    self.length = length\n",
    "  def area(self):\n",
    "    return self.width * self.length\n",
    "  def perimeter(self):\n",
    "    return 2 * self.length + 2 * self.width\n",
    "\n",
    "class Square :\n",
    "  def __init__(self, length):\n",
    "    self.length = length\n",
    "  def area(self):\n",
    "    return self.length * self.length\n",
    "  def perimeter(self):\n",
    "    return 4 * self.length"
   ]
  },
  {
   "cell_type": "code",
   "execution_count": null,
   "metadata": {
    "colab": {},
    "colab_type": "code",
    "id": "N50s-kT_u99V"
   },
   "outputs": [],
   "source": [
    "rectangle = Rectangle(2, 3)\n",
    "rectangle.area()\n",
    "square = Square(4)\n",
    "square.area()"
   ]
  },
  {
   "cell_type": "markdown",
   "metadata": {
    "colab_type": "text",
    "id": "jEm3E0D-IAI0"
   },
   "source": [
    "#### Parameterless super( )"
   ]
  },
  {
   "cell_type": "code",
   "execution_count": null,
   "metadata": {
    "colab": {},
    "colab_type": "code",
    "id": "tn1vMkbF-2XQ"
   },
   "outputs": [],
   "source": [
    "class Square(Rectangle):\n",
    "  def __init__(self, length):\n",
    "    super().__init__(length, length)\n",
    "\n",
    "square = Square(4)\n",
    "square.area()"
   ]
  },
  {
   "cell_type": "markdown",
   "metadata": {
    "colab_type": "text",
    "id": "f2EMplJOIQEz"
   },
   "source": [
    "#### Super( ) with parameters\n",
    "\n",
    "```\n",
    "# super(subclass, obj)\n",
    "```\n",
    "\n"
   ]
  },
  {
   "cell_type": "code",
   "execution_count": null,
   "metadata": {
    "colab": {},
    "colab_type": "code",
    "id": "RqQedc2M_GSS"
   },
   "outputs": [],
   "source": [
    "class Square(Rectangle):\n",
    "  def __init__(self, length):\n",
    "    super(Square, self).__init__(length, length)\n",
    "\n",
    "square = Square(4)\n",
    "square.area()"
   ]
  },
  {
   "cell_type": "code",
   "execution_count": null,
   "metadata": {
    "colab": {},
    "colab_type": "code",
    "id": "WobZls2NG3wQ"
   },
   "outputs": [],
   "source": [
    "class Cube(Square):\n",
    "  def surface_area(self):\n",
    "    face_area = super(Square, self).area()\n",
    "    return 6 * face_area\n",
    "  def volumn(self):\n",
    "    face_area = super(Square, self).area()\n",
    "    return face_area * self.length\n",
    "\n",
    "cube = Cube(4)\n",
    "cube.surface_area()"
   ]
  },
  {
   "cell_type": "markdown",
   "metadata": {
    "colab_type": "text",
    "id": "g4TRYAXcMeWR"
   },
   "source": [
    "#### Super( ) in multiple inheritace classes"
   ]
  },
  {
   "cell_type": "code",
   "execution_count": null,
   "metadata": {
    "colab": {},
    "colab_type": "code",
    "id": "w-50qDxvMZHg"
   },
   "outputs": [],
   "source": [
    "class Triangle:\n",
    "  def __init__(self, base, height):\n",
    "    self.base = base\n",
    "    self.height = height\n",
    "  def area(self):\n",
    "    return 0.5 * self.base * self.height\n",
    "\n",
    "class RightPyramid(Triangle, Square):\n",
    "  'Pyramid with a square base'\n",
    "  def __init__(self, base, slant_height):\n",
    "    self.base = base\n",
    "    self.slant_height = slant_height\n",
    "  def area(self):\n",
    "    base_area = super().area()\n",
    "    perimeter = super().perimeter()\n",
    "    return 0.5 * perimeter * self.slant_height + base_area"
   ]
  },
  {
   "cell_type": "code",
   "execution_count": null,
   "metadata": {
    "colab": {},
    "colab_type": "code",
    "id": "aYlIz71FNya_"
   },
   "outputs": [],
   "source": [
    "pyramid = RightPyramid(4, 2)\n",
    "\n",
    "# get error\n",
    "pyramid.area()"
   ]
  },
  {
   "cell_type": "markdown",
   "metadata": {
    "colab_type": "text",
    "id": "Px6i3W-qQYAC"
   },
   "source": [
    "#### Method resolution order (MRO)"
   ]
  },
  {
   "cell_type": "code",
   "execution_count": null,
   "metadata": {
    "colab": {},
    "colab_type": "code",
    "id": "0vqwm6sJQ1CY"
   },
   "outputs": [],
   "source": [
    "RightPyramid.__mro__"
   ]
  },
  {
   "cell_type": "code",
   "execution_count": null,
   "metadata": {
    "colab": {},
    "colab_type": "code",
    "id": "SW3RokGaR9qW"
   },
   "outputs": [],
   "source": [
    "class RightPyramid(Square, Triangle):\n",
    "  'Pyramid with a square base'\n",
    "  def __init__(self, base, slant_height):\n",
    "    self.base = base\n",
    "    self.slant_height = slant_height\n",
    "    super().__init__(self.base)\n",
    "  def area(self):\n",
    "    base_area = super().area()\n",
    "    perimeter = super().perimeter()\n",
    "    return 0.5 * perimeter * self.slant_height + base_area"
   ]
  },
  {
   "cell_type": "code",
   "execution_count": null,
   "metadata": {
    "colab": {},
    "colab_type": "code",
    "id": "b4mUPWAWSJyW"
   },
   "outputs": [],
   "source": [
    "pyramid = RightPyramid(4, 2)\n",
    "pyramid.area()"
   ]
  },
  {
   "cell_type": "code",
   "execution_count": null,
   "metadata": {
    "colab": {},
    "colab_type": "code",
    "id": "TqbExFnqShVk"
   },
   "outputs": [],
   "source": [
    "RightPyramid.__mro__"
   ]
  },
  {
   "cell_type": "code",
   "execution_count": null,
   "metadata": {
    "colab": {},
    "colab_type": "code",
    "id": "zw3YoOWmUwRy"
   },
   "outputs": [],
   "source": [
    "class Triangle:\n",
    "  def __init__(self, base, height):\n",
    "    self.base = base\n",
    "    self.height = height\n",
    "    super().__init__(self.base)\n",
    "  def tri_area(self):\n",
    "    return 0.5 * self.base * self.height\n",
    "    \n",
    "class RightPyramid(Square, Triangle):\n",
    "  'Pyramid with a square base'\n",
    "  def __init__(self, base, slant_height):\n",
    "    self.base = base\n",
    "    self.slant_height = slant_height\n",
    "    super().__init__(self.base)\n",
    "  def area(self):\n",
    "    base_area = super().area()\n",
    "    perimeter = super().perimeter()\n",
    "    return 0.5 * perimeter * self.slant_height + base_area\n",
    "  def area_2(self):\n",
    "    base_area = super().area()\n",
    "    triangle_area = super().tri_area()\n",
    "    return 4 * triangle_area + base_area"
   ]
  },
  {
   "cell_type": "code",
   "execution_count": null,
   "metadata": {
    "colab": {},
    "colab_type": "code",
    "id": "yLoVL6kYVSiQ"
   },
   "outputs": [],
   "source": [
    "pyramid = RightPyramid(4, 2)\n",
    "\n",
    "# get error\n",
    "pyramid.area_2()"
   ]
  },
  {
   "cell_type": "markdown",
   "metadata": {
    "colab_type": "text",
    "id": "lC9pFb59cmvW"
   },
   "source": [
    "Hint: you need to do two things to fix this,\n",
    "* 1. All methods that are called with super( ) need to have a call to their superclass’s version of that method. This means that you will need to add super( ).\\_\\_init\\_\\_( ) to the .\\_\\_init\\_\\_( ) methods of Triangle and Rectangle.\n",
    "* 2. Redesign all the .\\_\\_init\\_\\_( ) calls to take a keyword dictionary."
   ]
  },
  {
   "cell_type": "code",
   "execution_count": null,
   "metadata": {
    "colab": {},
    "colab_type": "code",
    "id": "vmkUisTuXFve"
   },
   "outputs": [],
   "source": [
    "# Complete code\n",
    "class Rectangle :\n",
    "  def __init__(self, width, length, **kwargs):\n",
    "    self.width = width\n",
    "    self.length = length\n",
    "    super().__init__(**kwargs)\n",
    "  def area(self):\n",
    "    return self.width * self.length\n",
    "  def perimeter(self):\n",
    "    return 2 * self.length + 2 * self.width\n",
    "\n",
    "class Square(Rectangle):\n",
    "  def __init__(self, length, **kwargs):\n",
    "    super().__init__(length=length, width=length, **kwargs)\n",
    "\n",
    "class Cube(Square):\n",
    "  def surface_area(self):\n",
    "    face_area = super().area()\n",
    "    return 6 * face_area\n",
    "  def volumn(self):\n",
    "    face_area = super().area()\n",
    "    return face_area * self.length\n",
    "\n",
    "class Triangle:\n",
    "  def __init__(self, base, height, **kwargs):\n",
    "    self.base = base\n",
    "    self.height = height\n",
    "    super().__init__(**kwargs)\n",
    "  def tri_area(self):\n",
    "    return 0.5 * self.base * self.height\n",
    "\n",
    "class RightPyramid(Square, Triangle):\n",
    "  'Pyramid with a square base'\n",
    "  def __init__(self, base, slant_height, **kwargs):\n",
    "    self.base = base\n",
    "    self.slant_height = slant_height\n",
    "    kwargs[\"height\"] = slant_height\n",
    "    kwargs[\"length\"] = base\n",
    "    super().__init__(base=base, **kwargs)\n",
    "  def area(self):\n",
    "    base_area = super().area()\n",
    "    perimeter = super().perimeter()\n",
    "    return 0.5 * perimeter * self.slant_height + base_area\n",
    "  def area_2(self):\n",
    "    base_area = super().area()\n",
    "    triangle_area = super().tri_area()\n",
    "    return 4 * triangle_area + base_area"
   ]
  },
  {
   "cell_type": "code",
   "execution_count": null,
   "metadata": {
    "colab": {},
    "colab_type": "code",
    "id": "Wv-AW6bhdZyd"
   },
   "outputs": [],
   "source": [
    "pyramid = RightPyramid(base=4,slant_height=2)\n",
    "print(pyramid.area(), pyramid.area_2())"
   ]
  },
  {
   "cell_type": "markdown",
   "metadata": {
    "colab_type": "text",
    "id": "OWs5BnjFeyZg"
   },
   "source": [
    "```\n",
    "# Class          Named Arguments      kwargs\n",
    "# ------------------------------------------------\n",
    "# RightPyramid   base, slant_height   \n",
    "# Square         lenght               base, height\n",
    "# Rectangle      length, width        base, heigth\n",
    "# Triangle       base, height\n",
    "```"
   ]
  },
  {
   "cell_type": "code",
   "execution_count": null,
   "metadata": {
    "colab": {},
    "colab_type": "code",
    "id": "hgv33FDG4EMK"
   },
   "outputs": [],
   "source": [
    "# Exercise: Create a class of RightCone from above super class..."
   ]
  },
  {
   "cell_type": "markdown",
   "metadata": {
    "colab_type": "text",
    "id": "0ETOimPE4Sfv"
   },
   "source": [
    "Recommended Reading : [deep-dive guide to both inheritance and composition in Python](https://realpython.com/inheritance-composition-python/)"
   ]
  },
  {
   "cell_type": "markdown",
   "metadata": {
    "colab_type": "text",
    "id": "hgikEQiYOVMR"
   },
   "source": [
    "## Operators overloading\n",
    "[อ่านเพิ่มเติม](https://www.studytonight.com/python/python-operator-overloading)"
   ]
  },
  {
   "cell_type": "code",
   "execution_count": 50,
   "metadata": {
    "colab": {},
    "colab_type": "code",
    "id": "UZYA0ribO0cP"
   },
   "outputs": [],
   "source": [
    "class R2 :\n",
    "  def __init__(self, x = 0, y = 0):\n",
    "    self.x = x\n",
    "    self.y = y\n",
    "  def __str__(self):\n",
    "    return \"Here is ({0}, {1})\".format(self.x,self.y)\n",
    "  def __add__(self, obj):\n",
    "    return \"({0}, {1})\".format(self.x + obj.x, self.y + obj.y)\n",
    "  def EuclideanDistance(self, obj):\n",
    "    return \"{0}\".format(pow((self.x-obj.x)**2+(self.y-obj.y)**2, 0.5))\n",
    "  def dist(u,v):\n",
    "    return \"{0}\".format(pow((u.x-v.x)**2+(u.y-v.y)**2, 0.5))    "
   ]
  },
  {
   "cell_type": "code",
   "execution_count": 41,
   "metadata": {
    "colab": {},
    "colab_type": "code",
    "id": "JuIl3AfBJgmO"
   },
   "outputs": [
    {
     "name": "stdout",
     "output_type": "stream",
     "text": [
      "Here is (1, 2)\n"
     ]
    }
   ],
   "source": [
    "v = R2(1, 2)\n",
    "print(v)"
   ]
  },
  {
   "cell_type": "code",
   "execution_count": 44,
   "metadata": {
    "colab": {},
    "colab_type": "code",
    "id": "W6RgkUOGKPyH"
   },
   "outputs": [
    {
     "name": "stdout",
     "output_type": "stream",
     "text": [
      "(3, 4)\n"
     ]
    }
   ],
   "source": [
    "v1 = R2(1,2)\n",
    "v2 = R2(2,2)\n",
    "print(v1 + v2)"
   ]
  },
  {
   "cell_type": "code",
   "execution_count": 53,
   "metadata": {
    "colab": {},
    "colab_type": "code",
    "id": "ZkHYgh_TLRpI"
   },
   "outputs": [
    {
     "data": {
      "text/plain": [
       "'1.0'"
      ]
     },
     "execution_count": 53,
     "metadata": {},
     "output_type": "execute_result"
    }
   ],
   "source": [
    "# v1.EuclideanDistance(v2)\n",
    "R2.dist(v1,v2)"
   ]
  },
  {
   "cell_type": "code",
   "execution_count": null,
   "metadata": {
    "colab": {},
    "colab_type": "code",
    "id": "kP9IbYQ5MzUK"
   },
   "outputs": [],
   "source": [
    "# Tip\n",
    "from numpy import array as vec\n",
    "from numpy.linalg import norm\n",
    "v1 = vec((1,2))\n",
    "v2 = vec((2,2))\n",
    "print(norm(v1-v2))"
   ]
  },
  {
   "cell_type": "markdown",
   "metadata": {
    "colab_type": "text",
    "id": "TKonqV2GOiwp"
   },
   "source": [
    "## Encapsulation\n",
    "\n",
    "```\n",
    "# public\n",
    "# __private    -> called dunder -> only in class\n",
    "# _protected   -> called under  -> in class and subclass\n",
    "```\n",
    "\n"
   ]
  },
  {
   "cell_type": "code",
   "execution_count": 54,
   "metadata": {
    "colab": {},
    "colab_type": "code",
    "id": "lYzRt7n5O1Fs"
   },
   "outputs": [],
   "source": [
    "class classA :\n",
    "  public = \"I'm public.\"\n",
    "  __private = \"I'm private.\"\n",
    "  _protected = \"I'm protected.\"\n",
    "  def __init__(self):\n",
    "    print(\"---Inside Class A---\")\n",
    "    print(self.public)\n",
    "    print(self.__private)\n",
    "    print(self._protected)\n",
    "  def printA(self):\n",
    "    print(\"Private data is...\", self.__private)\n",
    "class subclassB(classA) :\n",
    "  def __init__(self):\n",
    "    print(\"---Inside Subclass B---\")\n",
    "    print(self.public)\n",
    "    print(self._protected)"
   ]
  },
  {
   "cell_type": "code",
   "execution_count": 57,
   "metadata": {
    "colab": {},
    "colab_type": "code",
    "id": "61LEJt5_STsz"
   },
   "outputs": [
    {
     "name": "stdout",
     "output_type": "stream",
     "text": [
      "---Inside Class A---\n",
      "I'm public.\n",
      "I'm private.\n",
      "I'm protected.\n",
      "---Inside Subclass B---\n",
      "I'm public.\n",
      "I'm protected.\n",
      "---Outside Class A\n",
      "I'm public.\n",
      "I'm public.\n",
      "Private data is... I'm private.\n",
      "19\n"
     ]
    }
   ],
   "source": [
    "a = classA()\n",
    "b = subclassB()\n",
    "print(\"---Outside Class A\")\n",
    "print(a.public)\n",
    "print(b.public)\n",
    "b.printA()"
   ]
  },
  {
   "cell_type": "code",
   "execution_count": null,
   "metadata": {
    "colab": {},
    "colab_type": "code",
    "id": "GWQcktXIVpZN"
   },
   "outputs": [],
   "source": [
    "print(b._protected)\n",
    "print(a._protected)\n",
    "# dir(a)"
   ]
  },
  {
   "cell_type": "markdown",
   "metadata": {
    "colab_type": "text",
    "id": "QaLfxOpQnrNR"
   },
   "source": [
    "### Tips : The meaning of underscores in Python\n",
    "\n",
    "* Single Leading Underscore: \\_var\n",
    "* Single Trailing Underscore: var\\_\n",
    "* Double Leading Underscore: \\_\\_var\n",
    "* Double Leading and Trailing Underscore: \\_\\_var\\_\\_\n",
    "* Single Underscore: \\_"
   ]
  },
  {
   "cell_type": "code",
   "execution_count": null,
   "metadata": {
    "colab": {},
    "colab_type": "code",
    "id": "-ebWV-cJmC7F"
   },
   "outputs": [],
   "source": [
    "from google.colab import drive\n",
    "drive.mount('/content/drive')"
   ]
  },
  {
   "cell_type": "code",
   "execution_count": null,
   "metadata": {
    "colab": {},
    "colab_type": "code",
    "id": "HCooO3sSsztR"
   },
   "outputs": [],
   "source": [
    "# from google.colab import files\n",
    "# files.upload()"
   ]
  },
  {
   "cell_type": "code",
   "execution_count": null,
   "metadata": {
    "colab": {},
    "colab_type": "code",
    "id": "RGYlrG_zTnzM"
   },
   "outputs": [],
   "source": [
    "!ls /content/drive/My\\ Drive/python_IRN/Python_for_Deep_Learning/*.py"
   ]
  },
  {
   "cell_type": "code",
   "execution_count": null,
   "metadata": {
    "colab": {},
    "colab_type": "code",
    "id": "h4qJ0HSOU2Sg"
   },
   "outputs": [],
   "source": [
    "!cat '/content/drive/My Drive/python_IRN/Python_for_Deep_Learning/my_module.py'"
   ]
  },
  {
   "cell_type": "code",
   "execution_count": null,
   "metadata": {
    "colab": {},
    "colab_type": "code",
    "id": "W_8_pyHCU7mz"
   },
   "outputs": [],
   "source": [
    "import sys\n",
    "sys.path.append('/content/drive/My Drive/python_IRN/Python_for_Deep_Learning')"
   ]
  },
  {
   "cell_type": "code",
   "execution_count": null,
   "metadata": {
    "colab": {},
    "colab_type": "code",
    "id": "RjJWCuJtqfuT"
   },
   "outputs": [],
   "source": [
    "from my_module import *"
   ]
  },
  {
   "cell_type": "code",
   "execution_count": null,
   "metadata": {
    "colab": {},
    "colab_type": "code",
    "id": "YeFzM-nTtAvT"
   },
   "outputs": [],
   "source": [
    "external_func()"
   ]
  },
  {
   "cell_type": "code",
   "execution_count": null,
   "metadata": {
    "colab": {},
    "colab_type": "code",
    "id": "XvdckuMetqTo"
   },
   "outputs": [],
   "source": [
    "_internal_func()"
   ]
  },
  {
   "cell_type": "code",
   "execution_count": null,
   "metadata": {
    "colab": {},
    "colab_type": "code",
    "id": "fnzW_2-DwfWJ"
   },
   "outputs": [],
   "source": [
    "my_module._internal_func()"
   ]
  },
  {
   "cell_type": "code",
   "execution_count": null,
   "metadata": {
    "colab": {},
    "colab_type": "code",
    "id": "2CgVCIGQuOpN"
   },
   "outputs": [],
   "source": [
    "import my_module"
   ]
  },
  {
   "cell_type": "code",
   "execution_count": null,
   "metadata": {
    "colab": {},
    "colab_type": "code",
    "id": "NLSs2ajFwCCk"
   },
   "outputs": [],
   "source": [
    "my_module.external_func()"
   ]
  },
  {
   "cell_type": "code",
   "execution_count": null,
   "metadata": {
    "colab": {},
    "colab_type": "code",
    "id": "mpFtLgjOwEnl"
   },
   "outputs": [],
   "source": [
    "my_module._internal_func()"
   ]
  },
  {
   "cell_type": "code",
   "execution_count": null,
   "metadata": {
    "colab": {},
    "colab_type": "code",
    "id": "HMD-ytPI3MHW"
   },
   "outputs": [],
   "source": [
    "for _ in range(10):\n",
    "  print(\"Hi\", _)"
   ]
  },
  {
   "cell_type": "code",
   "execution_count": null,
   "metadata": {
    "colab": {},
    "colab_type": "code",
    "id": "nRWHRk9xwGJt"
   },
   "outputs": [],
   "source": [
    "t = (\"cat\", 0, 3.14, 1e-5)\n",
    "t"
   ]
  },
  {
   "cell_type": "code",
   "execution_count": null,
   "metadata": {
    "colab": {},
    "colab_type": "code",
    "id": "tsNCBhjM3BA8"
   },
   "outputs": [],
   "source": [
    "t[0], t[-1]"
   ]
  },
  {
   "cell_type": "code",
   "execution_count": null,
   "metadata": {
    "colab": {},
    "colab_type": "code",
    "id": "GgLy6H3o3Ge_"
   },
   "outputs": [],
   "source": [
    "animal, _, _, lambda_ = t"
   ]
  },
  {
   "cell_type": "code",
   "execution_count": null,
   "metadata": {
    "colab": {},
    "colab_type": "code",
    "id": "P-hnfOb83heA"
   },
   "outputs": [],
   "source": [
    "animal, lambda_"
   ]
  },
  {
   "cell_type": "code",
   "execution_count": null,
   "metadata": {
    "colab": {},
    "colab_type": "code",
    "id": "7Dlz33Or3jk6"
   },
   "outputs": [],
   "source": [
    "20 + 3"
   ]
  },
  {
   "cell_type": "code",
   "execution_count": null,
   "metadata": {
    "colab": {},
    "colab_type": "code",
    "id": "e_PELUmX3rUR"
   },
   "outputs": [],
   "source": [
    "_"
   ]
  },
  {
   "cell_type": "code",
   "execution_count": null,
   "metadata": {
    "colab": {},
    "colab_type": "code",
    "id": "YWzZxEfB3m44"
   },
   "outputs": [],
   "source": [
    "print(_)"
   ]
  },
  {
   "cell_type": "code",
   "execution_count": null,
   "metadata": {
    "colab": {},
    "colab_type": "code",
    "id": "ZGYltVDV3oTh"
   },
   "outputs": [],
   "source": [
    "list()"
   ]
  },
  {
   "cell_type": "code",
   "execution_count": null,
   "metadata": {
    "colab": {},
    "colab_type": "code",
    "id": "CZUd4qyk3u2F"
   },
   "outputs": [],
   "source": [
    "_.append(0)"
   ]
  },
  {
   "cell_type": "code",
   "execution_count": null,
   "metadata": {
    "colab": {},
    "colab_type": "code",
    "id": "flVgok3i3w-D"
   },
   "outputs": [],
   "source": [
    "_"
   ]
  },
  {
   "cell_type": "code",
   "execution_count": null,
   "metadata": {
    "colab": {},
    "colab_type": "code",
    "id": "Yum8iLO03yBK"
   },
   "outputs": [],
   "source": [
    "_.append(1)\n",
    "_.append(2)\n",
    "_"
   ]
  },
  {
   "cell_type": "code",
   "execution_count": null,
   "metadata": {
    "colab": {},
    "colab_type": "code",
    "id": "2CkoqlXRVNCC"
   },
   "outputs": [],
   "source": []
  }
 ],
 "metadata": {
  "colab": {
   "collapsed_sections": [],
   "name": "Pre-python.ipynb",
   "provenance": [
    {
     "file_id": "1De7bcUGZUpZxUFWEKFO0ZD4f-vVLvlqB",
     "timestamp": 1596532715742
    }
   ],
   "toc_visible": true
  },
  "kernelspec": {
   "display_name": "Python 3",
   "language": "python",
   "name": "python3"
  },
  "language_info": {
   "codemirror_mode": {
    "name": "ipython",
    "version": 3
   },
   "file_extension": ".py",
   "mimetype": "text/x-python",
   "name": "python",
   "nbconvert_exporter": "python",
   "pygments_lexer": "ipython3",
   "version": "3.8.5"
  }
 },
 "nbformat": 4,
 "nbformat_minor": 1
}
